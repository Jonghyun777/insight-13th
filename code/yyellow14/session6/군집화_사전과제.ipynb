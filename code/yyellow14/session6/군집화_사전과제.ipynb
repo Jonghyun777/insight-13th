{
 "cells": [
  {
   "cell_type": "markdown",
   "metadata": {},
   "source": [
    "# __분류__\n",
    "---"
   ]
  },
  {
   "cell_type": "markdown",
   "metadata": {},
   "source": [
    "### __군집화__\n",
    "##### 군집화란?\n",
    "- 군집화: 데이터를 비슷한 특성을 가진 그룹으로 나누는 비지도 학습 기법\n",
    "- 군집화의 목표: 응집도 최대화 + 분리도 최대화\n",
    "##### 군집화 과정\n",
    "- 피처 선택 또는 추출\n",
    "- 군집화 알고리즘 선택\n",
    "- 군집 유효성 검증\n",
    "- 결과 해석\n",
    "---"
   ]
  },
  {
   "cell_type": "markdown",
   "metadata": {},
   "source": [
    "### __군집화 알고리즘__\n",
    "##### 계층적 군집화\n",
    "- 계층적 군집화: 데이터 간의 유사성을 기반으로 트리 구조를 형성하며, 상향식 또는 하향식 방식응로 군집을 형성해 나가는 방법\n",
    "- 6가지 거리 정의 방법\n",
    "    - Single linkage\n",
    "    - Complete linkage\n",
    "    - Average linkage\n",
    "    - Centroid Method\n",
    "    - Median\n",
    "    - Ward's Procedure\n",
    "##### k-means\n",
    "- 데이터를 K개의 그룹으로 나누되, 각 그룹의 중심점과의 거리가 가장 가까운 데이터끼리 묶는 군집화 알고리즘\n",
    "##### DBSCAN\n",
    "- 밀도가 높은 지역의 데이터를 하나의 군집으로 묶고, 밀도 기준을 만족하지 못하는 점은 군집에 포함시키지 않는 군집화 알고리즘.\n",
    "##### Gaussian Mixture Model(GMM)\n",
    "- 데이터가 여러 다른 모양의 가우시안 분포로 구성되었다고 가정하고, 각 분포를 클러스터로 인식하는 군집화 방법.\n",
    "---"
   ]
  },
  {
   "cell_type": "markdown",
   "metadata": {},
   "source": [
    "### __군집화의 평가 방법__\n",
    "##### 실루엣 계수\n",
    "- 클러스터 내 샘플들이 얼마나 조밀하게 모여 있는지를 측정하는 도구. 군집의 품질을 확인할 수 있음.\n",
    "##### Dunn Index\n",
    "- 클러스터 간 최소 거리(분리도)와 클러스터 내 최대 거리(응집도)의 비율을 계산해 클러스터링의 품질을 평가하는 지표.\n",
    "---"
   ]
  },
  {
   "cell_type": "markdown",
   "metadata": {},
   "source": []
  }
 ],
 "metadata": {
  "language_info": {
   "name": "python"
  }
 },
 "nbformat": 4,
 "nbformat_minor": 2
}
